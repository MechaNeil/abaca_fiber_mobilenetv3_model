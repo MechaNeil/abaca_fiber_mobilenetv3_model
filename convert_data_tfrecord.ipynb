{
 "cells": [
  {
   "cell_type": "code",
   "execution_count": null,
   "metadata": {},
   "outputs": [],
   "source": [
    "import tensorflow as tf\n",
    "import os\n",
    "from PIL import Image\n",
    "\n",
    "def _bytes_feature(value):\n",
    "    \"\"\"Returns a bytes_list from a string/byte.\"\"\"\n",
    "    if isinstance(value, str):\n",
    "        value = value.encode('utf-8')\n",
    "    return tf.train.Feature(bytes_list=tf.train.BytesList(value=[value]))\n",
    "\n",
    "def _int64_feature(value):\n",
    "    \"\"\"Returns an int64_list from an int.\"\"\"\n",
    "    return tf.train.Feature(int64_list=tf.train.Int64List(value=[value]))\n",
    "\n",
    "def create_tfrecord_from_images(image_dir, output_path, class_names):\n",
    "    \"\"\"\n",
    "    image_dir: directory containing subfolders for each class\n",
    "    output_path: path to save the TFRecord file\n",
    "    class_names: list of class names in sorted order\n",
    "    \"\"\"\n",
    "    with tf.io.TFRecordWriter(output_path) as writer:\n",
    "        for class_idx, class_name in enumerate(class_names):\n",
    "            class_folder = os.path.join(image_dir, class_name)\n",
    "            for image_name in os.listdir(class_folder):\n",
    "                image_path = os.path.join(class_folder, image_name)\n",
    "                \n",
    "                # Load and resize the image\n",
    "                image = Image.open(image_path).convert('RGB')\n",
    "                image = image.resize((224, 224))\n",
    "                image_bytes = image.tobytes()\n",
    "\n",
    "                # Create a feature dictionary\n",
    "                feature = {\n",
    "                    'image': _bytes_feature(image_bytes),\n",
    "                    'label': _int64_feature(class_idx)\n",
    "                }\n",
    "\n",
    "                # Create an Example\n",
    "                example = tf.train.Example(features=tf.train.Features(feature=feature))\n",
    "                writer.write(example.SerializeToString())\n",
    "    print(f\"TFRecord created at {output_path}\")\n"
   ]
  }
 ],
 "metadata": {
  "language_info": {
   "name": "python"
  }
 },
 "nbformat": 4,
 "nbformat_minor": 2
}
